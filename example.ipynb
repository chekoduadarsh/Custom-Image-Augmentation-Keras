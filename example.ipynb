{
  "nbformat": 4,
  "nbformat_minor": 0,
  "metadata": {
    "kernelspec": {
      "display_name": "Python 3",
      "language": "python",
      "name": "python3"
    },
    "language_info": {
      "codemirror_mode": {
        "name": "ipython",
        "version": 3
      },
      "file_extension": ".py",
      "mimetype": "text/x-python",
      "name": "python",
      "nbconvert_exporter": "python",
      "pygments_lexer": "ipython3",
      "version": "3.6.9"
    },
    "colab": {
      "name": "example.ipynb",
      "provenance": []
    },
    "accelerator": "GPU"
  },
  "cells": [
    {
      "cell_type": "code",
      "metadata": {
        "colab": {
          "base_uri": "https://localhost:8080/"
        },
        "id": "TMavpTK5oOe9",
        "outputId": "0201f4c5-dd98-4c8c-bbb2-08878acfc27e"
      },
      "source": [
        "%matplotlib inline\n",
        "import os\n",
        "import matplotlib.pyplot as plt\n",
        "import numpy as np\n",
        "from image_augmentation_keras import Image_Augmentation\n",
        "\n",
        "cols, rows = 5, 4\n",
        "img_num = cols * rows"
      ],
      "execution_count": 11,
      "outputs": [
        {
          "output_type": "stream",
          "text": [
            "fatal: destination path 'Custom-Image-Augmentation-Keras' already exists and is not an empty directory.\n"
          ],
          "name": "stdout"
        }
      ]
    },
    {
      "cell_type": "code",
      "metadata": {
        "colab": {
          "base_uri": "https://localhost:8080/",
          "height": 35
        },
        "id": "7FL5Pr-XoOfC",
        "outputId": "0ba8fdb5-8f04-4774-9009-ff16ed07d7e5"
      },
      "source": [
        "import sys\n",
        "sys.executable"
      ],
      "execution_count": 12,
      "outputs": [
        {
          "output_type": "execute_result",
          "data": {
            "application/vnd.google.colaboratory.intrinsic+json": {
              "type": "string"
            },
            "text/plain": [
              "'/usr/bin/python3'"
            ]
          },
          "metadata": {
            "tags": []
          },
          "execution_count": 12
        }
      ]
    },
    {
      "cell_type": "code",
      "metadata": {
        "id": "gejn5yVboOfE"
      },
      "source": [
        "#!pip install matplotlib\n",
        "#import matplotlib.pyplot as plt\n",
        "import tensorflow"
      ],
      "execution_count": 13,
      "outputs": []
    },
    {
      "cell_type": "code",
      "metadata": {
        "colab": {
          "base_uri": "https://localhost:8080/",
          "height": 248
        },
        "id": "ntq6TRkQoOfF",
        "outputId": "12698a41-09ad-4d36-b458-7838e643a97e"
      },
      "source": [
        "import numpy as np\n",
        "from keras.datasets import cifar100\n",
        "from matplotlib import pyplot\n",
        "\n",
        "\n",
        "he = Image_Augmentation(method=\"histogram_equalization\")\n",
        "\n",
        "(trainX, trainy), (testX, testy) = cifar100.load_data()\n",
        "\n",
        "for i in range(img_num):\n",
        "    plt.subplot(rows, cols, i + 1)\n",
        "    plt.imshow(he(trainX[i]))\n",
        "    plt.axis('off')"
      ],
      "execution_count": 20,
      "outputs": [
        {
          "output_type": "display_data",
          "data": {
            "image/png": "[encoded data removed]",
            "text/plain": [
              "<Figure size 432x288 with 20 Axes>"
            ]
          },
          "metadata": {
            "tags": [],
            "needs_background": "light"
          }
        }
      ]
    }
  ]
}